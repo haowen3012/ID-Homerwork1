{
 "cells": [
  {
   "cell_type": "code",
   "execution_count": 6,
   "metadata": {},
   "outputs": [
    {
     "name": "stdout",
     "output_type": "stream",
     "text": [
      "Distribuzione numero di tabelle per JSON:\n"
     ]
    },
    {
     "data": {
      "image/png": "[encoded data removed]",
      "text/plain": [
       "<Figure size 640x480 with 1 Axes>"
      ]
     },
     "metadata": {},
     "output_type": "display_data"
    },
    {
     "data": {
      "text/plain": [
       "Counter({2: 24,\n",
       "         9: 20,\n",
       "         6: 15,\n",
       "         8: 15,\n",
       "         0: 14,\n",
       "         5: 14,\n",
       "         10: 13,\n",
       "         4: 12,\n",
       "         20: 11,\n",
       "         14: 11,\n",
       "         13: 11,\n",
       "         1: 10,\n",
       "         7: 10,\n",
       "         12: 10,\n",
       "         11: 7,\n",
       "         3: 7,\n",
       "         16: 6,\n",
       "         15: 5,\n",
       "         30: 4,\n",
       "         18: 4,\n",
       "         24: 3,\n",
       "         59: 3,\n",
       "         21: 2,\n",
       "         17: 2,\n",
       "         53: 2,\n",
       "         43: 2,\n",
       "         19: 2,\n",
       "         54: 1,\n",
       "         71: 1,\n",
       "         25: 1,\n",
       "         27: 1,\n",
       "         98: 1,\n",
       "         33: 1,\n",
       "         23: 1,\n",
       "         35: 1,\n",
       "         26: 1})"
      ]
     },
     "execution_count": 6,
     "metadata": {},
     "output_type": "execute_result"
    }
   ],
   "source": [
    "import os\n",
    "import json\n",
    "import matplotlib.pyplot as plt\n",
    "from collections import Counter\n",
    "\n",
    "def analizza_json(directory_path):\n",
    "    table_counts = []\n",
    "\n",
    "    # Itera su tutti i file JSON nella cartella\n",
    "    for file_name in os.listdir(directory_path):\n",
    "        if file_name.endswith('.json'):\n",
    "            with open(os.path.join(directory_path, file_name), 'r', encoding='utf-8') as f:\n",
    "                data = json.load(f)\n",
    "                \n",
    "                # Conta le tabelle nel file\n",
    "                num_tables = len(data)\n",
    "                table_counts.append(num_tables)\n",
    "                \n",
    "\n",
    "    # Genera le distribuzioni\n",
    "    def genera_distribuzione(dati, titolo, etichetta):\n",
    "        distribuzione = Counter(dati)\n",
    "        plt.bar(distribuzione.keys(), distribuzione.values(), color='skyblue')\n",
    "        plt.title(titolo)\n",
    "        plt.xlabel(etichetta)\n",
    "        plt.ylabel('Frequenza')\n",
    "        plt.show()\n",
    "        return distribuzione\n",
    "\n",
    "    print(\"Distribuzione numero di tabelle per JSON:\")\n",
    "    distribuzione_tabelle = genera_distribuzione(table_counts, \"Distribuzione delle tabelle per JSON\", \"Numero di tabelle\")\n",
    "\n",
    "    # Ritorna i risultati\n",
    "    return distribuzione_tabelle\n",
    "\n",
    "# Esempio di utilizzo\n",
    "directory_path = 'extraction_RAG'\n",
    "analizza_json(directory_path)"
   ]
  }
 ],
 "metadata": {
  "kernelspec": {
   "display_name": "base",
   "language": "python",
   "name": "python3"
  },
  "language_info": {
   "codemirror_mode": {
    "name": "ipython",
    "version": 3
   },
   "file_extension": ".py",
   "mimetype": "text/x-python",
   "name": "python",
   "nbconvert_exporter": "python",
   "pygments_lexer": "ipython3",
   "version": "3.11.7"
  }
 },
 "nbformat": 4,
 "nbformat_minor": 2
}
